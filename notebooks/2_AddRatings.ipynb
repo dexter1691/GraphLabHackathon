{
 "metadata": {
  "name": "",
  "signature": "sha256:00bbe8c658250eb2ebf4d011c7c52ce3080f8a7b5df7c6f7886aaae92cb56de5"
 },
 "nbformat": 3,
 "nbformat_minor": 0,
 "worksheets": [
  {
   "cells": [
    {
     "cell_type": "code",
     "collapsed": false,
     "input": [
      "import graphlab as gl\n",
      "import numpy as np"
     ],
     "language": "python",
     "metadata": {},
     "outputs": [],
     "prompt_number": 10
    },
    {
     "cell_type": "heading",
     "level": 1,
     "metadata": {},
     "source": [
      "Adding Ratings"
     ]
    },
    {
     "cell_type": "code",
     "collapsed": false,
     "input": [
      "papersSF = gl.load_sframe('../data/glData/papersSF_org')\n",
      "citationSF = gl.load_sframe('../data/glData/citationsSF_org')\n",
      "paperPaperSG = gl.load_graph('../data/glData/paperPaperSG_org')"
     ],
     "language": "python",
     "metadata": {},
     "outputs": [],
     "prompt_number": 11
    },
    {
     "cell_type": "code",
     "collapsed": false,
     "input": [
      "citation_count = citationSF.groupby(['TargetID'], [gl.aggregate.COUNT()])\n",
      "citation_count"
     ],
     "language": "python",
     "metadata": {},
     "outputs": [
      {
       "metadata": {},
       "output_type": "pyout",
       "prompt_number": 12,
       "text": [
        "Columns:\n",
        "\tTargetID\tint\n",
        "\tCount\tint\n",
        "\n",
        "Rows: 23180\n",
        "\n",
        "Data:\n",
        "   TargetID  Count\n",
        "0    211023      1\n",
        "1      5288      1\n",
        "2    111253      5\n",
        "3   9203010      1\n",
        "4   9803124      3\n",
        "5   9607194      5\n",
        "6   9411078      4\n",
        "7     10273      2\n",
        "8    111013      6\n",
        "9     11106      2\n",
        "\n",
        "...\n",
        "[23180 rows x 2 columns]"
       ]
      }
     ],
     "prompt_number": 12
    },
    {
     "cell_type": "code",
     "collapsed": false,
     "input": [
      "'''\n",
      "len_citeframe = len(citationSF)\n",
      "arr = np.zeros(shape=(len_citeframe))\n",
      "citationSF.add_column(gl.SArray(arr),name='rating')\n",
      "citationSF.remove_column('rating')\n",
      "citationsSF.join(citation_count, how='left')\n",
      "citationsSF\n",
      "'''\n",
      "citationSF=citationSF.join(citation_count, on='TargetID', how='left')\n",
      "citationSF\n",
      "citationSF.save('../data/glData/citationsSF_ratings')"
     ],
     "language": "python",
     "metadata": {},
     "outputs": [],
     "prompt_number": 13
    },
    {
     "cell_type": "heading",
     "level": 1,
     "metadata": {},
     "source": [
      "Normalization"
     ]
    },
    {
     "cell_type": "code",
     "collapsed": false,
     "input": [],
     "language": "python",
     "metadata": {},
     "outputs": []
    }
   ],
   "metadata": {}
  }
 ]
}