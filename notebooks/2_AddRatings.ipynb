{
 "metadata": {
  "name": "",
  "signature": "sha256:9d161d7153c1c601c96096664fa1b1767f4fe5f59124a1f3fca67030417d2e1d"
 },
 "nbformat": 3,
 "nbformat_minor": 0,
 "worksheets": [
  {
   "cells": [
    {
     "cell_type": "code",
     "collapsed": false,
     "input": [
      "import graphlab as gl\n",
      "import numpy as np"
     ],
     "language": "python",
     "metadata": {},
     "outputs": [],
     "prompt_number": 1
    },
    {
     "cell_type": "heading",
     "level": 1,
     "metadata": {},
     "source": [
      "Adding Ratings"
     ]
    },
    {
     "cell_type": "code",
     "collapsed": false,
     "input": [
      "papersSF = gl.load_sframe('../data/glData/papersSF_org')\n",
      "citationSF = gl.load_sframe('../data/glData/citationsSF_org')\n",
      "paperPaperSG = gl.load_graph('../data/glData/paperPaperSG_org')"
     ],
     "language": "python",
     "metadata": {},
     "outputs": [
      {
       "output_type": "stream",
       "stream": "stderr",
       "text": [
        "[INFO] Start server at: ipc:///tmp/graphlab_server-27647 - Server binary: /Users/sfakhraei/venv/lib/python2.7/site-packages/graphlab/unity_server - Server log: /tmp/graphlab_server_1402530674.log\n"
       ]
      },
      {
       "output_type": "stream",
       "stream": "stderr",
       "text": [
        "[INFO] GraphLab Server Version: 0.3.1216\n"
       ]
      }
     ],
     "prompt_number": 2
    },
    {
     "cell_type": "code",
     "collapsed": false,
     "input": [
      "citation_count = citationSF.groupby(['TargetID'], [gl.aggregate.COUNT()])\n",
      "citation_count"
     ],
     "language": "python",
     "metadata": {},
     "outputs": [
      {
       "metadata": {},
       "output_type": "pyout",
       "prompt_number": 3,
       "text": [
        "Columns:\n",
        "\tTargetID\tint\n",
        "\tCount\tint\n",
        "\n",
        "Rows: 23180\n",
        "\n",
        "Data:\n",
        "   TargetID  Count\n",
        "0    211023      1\n",
        "1      5288      1\n",
        "2    111253      5\n",
        "3   9203010      1\n",
        "4   9803124      3\n",
        "5   9607194      5\n",
        "6   9411078      4\n",
        "7     10273      2\n",
        "8    111013      6\n",
        "9     11106      2\n",
        "\n",
        "...\n",
        "[23180 rows x 2 columns]"
       ]
      }
     ],
     "prompt_number": 3
    },
    {
     "cell_type": "code",
     "collapsed": false,
     "input": [
      "'''\n",
      "len_citeframe = len(citationSF)\n",
      "arr = np.zeros(shape=(len_citeframe))\n",
      "citationSF.add_column(gl.SArray(arr),name='rating')\n",
      "citationSF.remove_column('rating')\n",
      "citationsSF.join(citation_count, how='left')\n",
      "citationsSF\n",
      "'''\n",
      "citationSF=citationSF.join(citation_count, on='TargetID', how='left')\n",
      "citationSF\n",
      "citationSF.save('../data/glData/citationsSF_ratings')"
     ],
     "language": "python",
     "metadata": {},
     "outputs": [],
     "prompt_number": 4
    },
    {
     "cell_type": "heading",
     "level": 1,
     "metadata": {},
     "source": [
      "Normalization"
     ]
    },
    {
     "cell_type": "code",
     "collapsed": false,
     "input": [
      "from math import log10\n",
      "print citationSF['Count']\n",
      "citationSF['Count'] = citationSF['Count'].apply(lambda x: log10(x))\n",
      "citationSF['Count'].sketch_summary()"
     ],
     "language": "python",
     "metadata": {},
     "outputs": [
      {
       "output_type": "stream",
       "stream": "stdout",
       "text": [
        "[16, 115, 140, 55, 421, 77, 1299, 1006, 126, 1114, 337, 192, 30, 63, 327, 205, 49, 189, 77, 160, 301, 90, 192, 35, 175, 92, 329, 49, 95, 520, 252, 194, 148, 274, 467, 148, 24, 110, 118, 186, 127, 28, 81, 65, 145, 139, 37, 114, 62, 63, 59, 49, 424, 29, 70, 71, 65, 39, 11, 16, 43, 16, 139, 8, 17, 129, 14, 22, 17, 11, 22, 328, 24, 14, 12, 11, 54, 23, 22, 18, 11, 5, 5, 83, 21, 13, 14, 2, 4, 106, 208, 30, 11, 11, 79, 56, 50, 230, 223, 168, ... ]\n"
       ]
      },
      {
       "metadata": {},
       "output_type": "pyout",
       "prompt_number": 5,
       "text": [
        "Exact Values\n",
        "------------\n",
        "Length: 352807\n",
        "# Missing Values: 0\n",
        "Min: 0.0\n",
        "Max: 3.38273726576\n",
        "Mean: 1.62517588676\n",
        "Variance: 0.419729398914\n",
        "Standard Deviation: 0.647865262932\n",
        "\n",
        "Approximate Values\n",
        "------------------\n",
        "# Unique Values: 279\n",
        "Most frequent items (item:count) :\n",
        "        0.778151250384:6804     0.698970004336:6635     0.903089986992:6584     0.602059991328:6572     0.845098040014:6321     0.954242509439:6228     0.47712125472:5976      1.0:5910        1.11394335231:5811      1.07918124605:5808      \n",
        "Quantiles: \n",
        "        Min     1%      5%      25%     50%     75%     95%     99%     Max\n",
        "        0.0     0.0     0.602059991328  1.20411998266   1.61278385672   2.02938377769   2.84571801797   3.24919835739   3.38273726576   "
       ]
      }
     ],
     "prompt_number": 5
    },
    {
     "cell_type": "code",
     "collapsed": false,
     "input": [
      "citationSF.save('../data/glData/citationsSF_ratings_log')"
     ],
     "language": "python",
     "metadata": {},
     "outputs": [],
     "prompt_number": 6
    },
    {
     "cell_type": "code",
     "collapsed": false,
     "input": [
      "citationSF_log = gl.load_sframe('../data/glData/citationsSF_ratings_log')\n",
      "citationSF_log\n",
      "citation_dict = {}\n",
      "citation_minmax_group = citationSF_log.groupby('SourceID', {'Max':gl.aggregate.MAX('Count'),'Min':gl.aggregate.MIN('Count')})\n",
      "print citation_minmax_group\n",
      "citationSF_log = citationSF_log.join(citation_minmax_group, how='left')\n",
      "citationSF_log['normalized_count']=0\n",
      "print citationSF_log\n",
      "\n",
      "citationSF_log['normalized_count'] = citationSF_log.apply(lambda row: ((row['Count']-row['Min'])/((row['Max']-row['Min'])+0.001)))\n",
      "print citationSF_log\n",
      "\n",
      "citationSF_log.save('../data/glData/citationsSF_ratings_log_normalized')\n",
      "\n",
      "#for row in citationSF_log:\n",
      "#    row['normalized_count'] = (row['Count']-row['Min'])\n",
      "#citationSF_log.apply(lambda x: x['Count'] = (x['Count'] - citation)/())"
     ],
     "language": "python",
     "metadata": {},
     "outputs": [
      {
       "output_type": "stream",
       "stream": "stdout",
       "text": [
        "   SourceID       Max       Min\n",
        "0    211023  3.382737  0.301030\n",
        "1      5288  3.382737  1.255273\n",
        "2    111253  2.041393  0.845098\n",
        "3   9711180  2.041393  0.301030\n",
        "4    304134  1.518514  0.000000\n",
        "5   9803124  3.382737  0.000000\n",
        "6   9607194  0.301030  0.301030\n",
        "7   9411078  2.004321  0.778151\n",
        "8     10273  0.602060  0.602060\n",
        "9    111013  3.058426  0.000000\n",
        "\n",
        "...\n",
        "[25059 rows x 3 columns]\n",
        "\n",
        "   SourceID  TargetID     Count       Max      Min  normalized_count\n",
        "0      1001   9304045  1.204120  3.113609  0.69897                 0\n",
        "1      1001   9308122  2.060698  3.113609  0.69897                 0\n",
        "2      1001   9309097  2.146128  3.113609  0.69897                 0\n",
        "3      1001   9311042  1.740363  3.113609  0.69897                 0\n",
        "4      1001   9401139  2.624282  3.113609  0.69897                 0\n",
        "5      1001   9404151  1.886491  3.113609  0.69897                 0\n",
        "6      1001   9407087  3.113609  3.113609  0.69897                 0\n",
        "7      1001   9408099  3.002598  3.113609  0.69897                 0\n",
        "8      1001   9501030  2.100371  3.113609  0.69897                 0\n",
        "9      1001   9503124  3.046885  3.113609  0.69897                 0\n",
        "\n",
        "...\n",
        "[352807 rows x 6 columns]\n"
       ]
      },
      {
       "output_type": "stream",
       "stream": "stdout",
       "text": [
        "\n",
        "   SourceID  TargetID     Count       Max      Min  normalized_count\n",
        "0      1001   9304045  1.204120  3.113609  0.69897          0.209116\n",
        "1      1001   9308122  2.060698  3.113609  0.69897          0.563713\n",
        "2      1001   9309097  2.146128  3.113609  0.69897          0.599079\n",
        "3      1001   9311042  1.740363  3.113609  0.69897          0.431104\n",
        "4      1001   9401139  2.624282  3.113609  0.69897          0.797020\n",
        "5      1001   9404151  1.886491  3.113609  0.69897          0.491597\n",
        "6      1001   9407087  3.113609  3.113609  0.69897          0.999586\n",
        "7      1001   9408099  3.002598  3.113609  0.69897          0.953631\n",
        "8      1001   9501030  2.100371  3.113609  0.69897          0.580137\n",
        "9      1001   9503124  3.046885  3.113609  0.69897          0.971964\n",
        "\n",
        "...\n",
        "[352807 rows x 6 columns]\n"
       ]
      },
      {
       "output_type": "stream",
       "stream": "stdout",
       "text": [
        "\n"
       ]
      }
     ],
     "prompt_number": 9
    },
    {
     "cell_type": "code",
     "collapsed": false,
     "input": [],
     "language": "python",
     "metadata": {},
     "outputs": []
    }
   ],
   "metadata": {}
  }
 ]
}