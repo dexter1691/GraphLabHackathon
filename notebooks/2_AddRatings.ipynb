{
 "metadata": {
  "name": "",
  "signature": "sha256:592415d6131eadc57f59f60e8469cf1f98d57f87dfed9b8bc46148ea1ffe96d5"
 },
 "nbformat": 3,
 "nbformat_minor": 0,
 "worksheets": [
  {
   "cells": [
    {
     "cell_type": "code",
     "collapsed": false,
     "input": [
      "import graphlab as gl\n",
      "import numpy as np"
     ],
     "language": "python",
     "metadata": {},
     "outputs": [],
     "prompt_number": 1
    },
    {
     "cell_type": "heading",
     "level": 1,
     "metadata": {},
     "source": [
      "Adding Ratings"
     ]
    },
    {
     "cell_type": "code",
     "collapsed": false,
     "input": [
      "papersSF = gl.load_sframe('../data/glData/papersSF_org')\n",
      "citationSF = gl.load_sframe('../data/glData/citationsSF_org')\n",
      "paperPaperSG = gl.load_graph('../data/glData/paperPaperSG_org')"
     ],
     "language": "python",
     "metadata": {},
     "outputs": [],
     "prompt_number": 13
    },
    {
     "cell_type": "code",
     "collapsed": false,
     "input": [
      "citation_count = citationSF.groupby(['TargetID'], [gl.aggregate.COUNT()])\n",
      "citation_count"
     ],
     "language": "python",
     "metadata": {},
     "outputs": [
      {
       "metadata": {},
       "output_type": "pyout",
       "prompt_number": 14,
       "text": [
        "Columns:\n",
        "\tTargetID\tint\n",
        "\tCount\tint\n",
        "\n",
        "Rows: 23180\n",
        "\n",
        "Data:\n",
        "   TargetID  Count\n",
        "0    211023      1\n",
        "1   9306032      1\n",
        "2    205254      7\n",
        "3   9303044     15\n",
        "4    203193      8\n",
        "5    203153     15\n",
        "6   9203010      1\n",
        "7     12158     18\n",
        "8   9803124      3\n",
        "9   9607194      5\n",
        "\n",
        "...\n",
        "[23180 rows x 2 columns]"
       ]
      }
     ],
     "prompt_number": 14
    },
    {
     "cell_type": "code",
     "collapsed": false,
     "input": [
      "'''\n",
      "len_citeframe = len(citationSF)\n",
      "arr = np.zeros(shape=(len_citeframe))\n",
      "citationSF.add_column(gl.SArray(arr),name='rating')\n",
      "citationSF.remove_column('rating')\n",
      "citationsSF.join(citation_count, how='left')\n",
      "citationsSF\n",
      "'''\n",
      "citationSF=citationSF.join(citation_count, on='TargetID', how='left')\n",
      "citationSF\n",
      "citationSF.save('../data/glData/citationsSF_ratings')"
     ],
     "language": "python",
     "metadata": {},
     "outputs": [],
     "prompt_number": 15
    },
    {
     "cell_type": "heading",
     "level": 1,
     "metadata": {},
     "source": [
      "Normalization"
     ]
    },
    {
     "cell_type": "code",
     "collapsed": false,
     "input": [
      "from math import log10\n",
      "print citationSF['Count']\n",
      "citationSF['Count'] = citationSF['Count'].apply(lambda x: log10(x))\n",
      "citationSF['Count'].sketch_summary()"
     ],
     "language": "python",
     "metadata": {},
     "outputs": [
      {
       "output_type": "stream",
       "stream": "stdout",
       "text": [
        "[16, 115, 140, 55, 421, 77, 1299, 1006, 126, 1114, 337, 192, 30, 63, 327, 205, 49, 189, 77, 160, 301, 90, 192, 35, 175, 92, 329, 49, 95, 520, 252, 194, 148, 274, 467, 148, 24, 110, 118, 186, 127, 28, 81, 65, 145, 139, 37, 114, 62, 63, 59, 49, 424, 29, 70, 71, 65, 39, 11, 16, 43, 16, 139, 8, 17, 129, 14, 22, 17, 11, 22, 328, 24, 14, 12, 11, 54, 23, 22, 18, 11, 5, 5, 83, 21, 13, 14, 2, 4, 106, 208, 30, 11, 11, 79, 56, 50, 230, 223, 168, ... ]\n"
       ]
      },
      {
       "metadata": {},
       "output_type": "pyout",
       "prompt_number": 16,
       "text": [
        "Exact Values\n",
        "------------\n",
        "Length: 352807\n",
        "# Missing Values: 0\n",
        "Min: 0.0\n",
        "Max: 3.38273726576\n",
        "Mean: 1.62517588676\n",
        "Variance: 0.419729398914\n",
        "Standard Deviation: 0.647865262932\n",
        "\n",
        "Approximate Values\n",
        "------------------\n",
        "# Unique Values: 279\n",
        "Most frequent items (item:count) :\n",
        "        0.778151250384:6804     0.698970004336:6635     0.903089986992:6584     0.602059991328:6572     0.845098040014:6321     0.954242509439:6228     0.47712125472:5976      1.0:5910        1.11394335231:5811      1.07918124605:5808      \n",
        "Quantiles: \n",
        "        Min     1%      5%      25%     50%     75%     95%     99%     Max\n",
        "        0.0     0.301029995664  0.602059991328  1.20411998266   1.61278385672   2.02938377769   2.87390159786   3.24919835739   3.38273726576   "
       ]
      }
     ],
     "prompt_number": 16
    },
    {
     "cell_type": "code",
     "collapsed": false,
     "input": [
      "citationSF.save('../data/glData/citationsSF_ratings_log')"
     ],
     "language": "python",
     "metadata": {},
     "outputs": [],
     "prompt_number": 18
    },
    {
     "cell_type": "code",
     "collapsed": false,
     "input": [
      "citationSF_log = gl.load_sframe('../data/glData/citationsSF_ratings_log')\n",
      "citationSF_log\n",
      "citation_dict = {}\n",
      "citation_minmax_group = citationSF_log.groupby('SourceID', {'Max':gl.aggregate.MAX('Count'),'Min':gl.aggregate.MIN('Count')})\n",
      "print citation_minmax_group\n",
      "citationSF_log = citationSF_log.join(citation_minmax_group, how='left')\n",
      "citationSF_log['normalized_count']=0\n",
      "print citationSF_log\n",
      "\n",
      "citationSF_log['normalized_count'] = citationSF_log.apply(lambda row: (row['Count']-row['Min'])/(row['Max']-row['Min']))\n",
      "print citationSF_log\n",
      "\n",
      "citationSF_log.save('../data/glData/citationsSF_ratings_log_normalized')\n",
      "\n",
      "#for row in citationSF_log:\n",
      "#    row['normalized_count'] = (row['Count']-row['Min'])\n",
      "#citationSF_log.apply(lambda x: x['Count'] = (x['Count'] - citation)/())"
     ],
     "language": "python",
     "metadata": {},
     "outputs": [
      {
       "output_type": "stream",
       "stream": "stdout",
       "text": [
        "   SourceID       Max       Min\n",
        "0    211023  3.382737  0.301030\n",
        "1   9306032  0.000000  0.000000\n",
        "2    205254  3.078819  0.477121\n",
        "3   9303044  1.146128  0.845098\n",
        "4    208227  2.278754  0.301030\n",
        "5    203193  2.037426  0.845098\n",
        "6    203153  3.013680  1.653213\n",
        "7   9403161  0.602060  0.602060\n",
        "8     12158  3.382737  0.903090\n",
        "9   9803124  3.382737  0.000000\n",
        "\n",
        "...\n",
        "[25059 rows x 3 columns]\n",
        "\n",
        "   SourceID  TargetID     Count       Max      Min  normalized_count\n",
        "0      6160   9903205  2.399674  3.058426  1.20412                 0\n",
        "1      6160   9903239  1.531479  3.058426  1.20412                 0\n",
        "2      6160   9904132  1.431364  3.058426  1.20412                 0\n",
        "3      6160   9906161  1.991226  3.058426  1.20412                 0\n",
        "4      6160   9906192  2.152288  3.058426  1.20412                 0\n",
        "5      6160   9908052  1.230449  3.058426  1.20412                 0\n",
        "6      6160   9908142  3.058426  3.058426  1.20412                 0\n",
        "7      6160   9911098  1.954243  3.058426  1.20412                 0\n",
        "8      6160   9912072  2.532754  3.058426  1.20412                 0\n",
        "9      6160   9912075  1.913814  3.058426  1.20412                 0\n",
        "\n",
        "...\n",
        "[352807 rows x 6 columns]\n"
       ]
      },
      {
       "output_type": "stream",
       "stream": "stdout",
       "text": [
        "\n",
        "   SourceID  TargetID     Count       Max      Min  normalized_count\n",
        "0      6160   9903205  2.399674  3.058426  1.20412          0.644745\n",
        "1      6160   9903239  1.531479  3.058426  1.20412          0.176540\n",
        "2      6160   9904132  1.431364  3.058426  1.20412          0.122549\n",
        "3      6160   9906161  1.991226  3.058426  1.20412          0.424475\n",
        "4      6160   9906192  2.152288  3.058426  1.20412          0.511333\n",
        "5      6160   9908052  1.230449  3.058426  1.20412          0.014199\n",
        "6      6160   9908142  3.058426  3.058426  1.20412          1.000000\n",
        "7      6160   9911098  1.954243  3.058426  1.20412          0.404530\n",
        "8      6160   9912072  2.532754  3.058426  1.20412          0.716513\n",
        "9      6160   9912075  1.913814  3.058426  1.20412          0.382727\n",
        "\n",
        "...\n",
        "[352807 rows x 6 columns]\n"
       ]
      },
      {
       "output_type": "stream",
       "stream": "stdout",
       "text": [
        "\n"
       ]
      }
     ],
     "prompt_number": 19
    }
   ],
   "metadata": {}
  }
 ]
}