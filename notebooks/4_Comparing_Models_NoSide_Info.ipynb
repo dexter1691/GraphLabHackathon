{
 "metadata": {
  "name": "",
  "signature": "sha256:097ef86f1672310bc9c4a2a03a9b79961b5295787925e4d293ec50eb15b35798"
 },
 "nbformat": 3,
 "nbformat_minor": 0,
 "worksheets": [
  {
   "cells": [
    {
     "cell_type": "heading",
     "level": 1,
     "metadata": {},
     "source": [
      "Loading the data"
     ]
    },
    {
     "cell_type": "code",
     "collapsed": false,
     "input": [
      "import graphlab.aggregate as agg\n",
      "import graphlab as gl\n",
      "import matplotlib.pyplot as pp"
     ],
     "language": "python",
     "metadata": {},
     "outputs": [],
     "prompt_number": 1
    },
    {
     "cell_type": "code",
     "collapsed": false,
     "input": [
      "papersSF = gl.load_sframe('../data/glData/papersSF_org')\n",
      "citationSF = gl.load_sframe('../data/glData/citationsSF_ratings')\n",
      "paperPaperSG = gl.load_graph('../data/glData/paperPaperSG_org')\n",
      "citationSF"
     ],
     "language": "python",
     "metadata": {},
     "outputs": [
      {
       "output_type": "stream",
       "stream": "stderr",
       "text": [
        "[INFO] Start server at: ipc:///tmp/graphlab_server-27570 - Server binary: /Users/sfakhraei/venv/lib/python2.7/site-packages/graphlab/unity_server - Server log: /tmp/graphlab_server_1402530379.log\n"
       ]
      },
      {
       "output_type": "stream",
       "stream": "stderr",
       "text": [
        "[INFO] GraphLab Server Version: 0.3.1216\n"
       ]
      },
      {
       "metadata": {},
       "output_type": "pyout",
       "prompt_number": 2,
       "text": [
        "Columns:\n",
        "\tSourceID\tint\n",
        "\tTargetID\tint\n",
        "\tCount\tint\n",
        "\n",
        "Rows: 352807\n",
        "\n",
        "Data:\n",
        "   SourceID  TargetID  Count\n",
        "0      1001   9304045     16\n",
        "1      1001   9308122    115\n",
        "2      1001   9309097    140\n",
        "3      1001   9311042     55\n",
        "4      1001   9401139    421\n",
        "5      1001   9404151     77\n",
        "6      1001   9407087   1299\n",
        "7      1001   9408099   1006\n",
        "8      1001   9501030    126\n",
        "9      1001   9503124   1114\n",
        "\n",
        "...\n",
        "[352807 rows x 3 columns]"
       ]
      }
     ],
     "prompt_number": 2
    },
    {
     "cell_type": "heading",
     "level": 1,
     "metadata": {},
     "source": [
      "Splitting the data"
     ]
    },
    {
     "cell_type": "code",
     "collapsed": false,
     "input": [
      "papersSF"
     ],
     "language": "python",
     "metadata": {},
     "outputs": [
      {
       "metadata": {},
       "output_type": "pyout",
       "prompt_number": 3,
       "text": [
        "Columns:\n",
        "\tID\tint\n",
        "\tTitle\tstr\n",
        "\tAuthors\tstr\n",
        "\tYear\tint\n",
        "\tAbstract\tstr\n",
        "\tEmail\tstr\n",
        "\tPages\tint\n",
        "\tVenue\tstr\n",
        "\tEmailName\tstr\n",
        "\n",
        "Rows: 29548\n",
        "\n",
        "Data:\n",
        "        ID                                              Title  \\\n",
        "0  9201001  Combinatorics of the Modular Group II: the Kon...   \n",
        "1  9201002  Inomogeneous Quantum Groups as Symmetries of P...   \n",
        "2  9201003  Intersection Theory, Integrable Hierarchies an...   \n",
        "3  9201004  The Heterotic Green-Schwarz Superstring on an ...   \n",
        "4  9201005   Ward Identities in Two-Dimensional String Theory   \n",
        "5  9201006   On Symmetries of Some Massless 2D Field Theories   \n",
        "6  9201007            Static Domain Walls in N=1 Supergravity   \n",
        "7  9201008  Coulomb Gas Representations and Screening Oper...   \n",
        "8  9201009           Large-Small Equivalence in String Theory   \n",
        "9  9201010  From Virasoro Constraints in Kontsevich's Mode...   \n",
        "\n",
        "                                             Authors  Year  \\\n",
        "0                        C. Itzykson and J.-B. Zuber  1992   \n",
        "1  F.Bonechi, E.Celeghini, R.Giachetti, E.Sorace ...  1992   \n",
        "2                                  Robbert Dijkgraaf  1992   \n",
        "3                                   Nathan Berkovits  1992   \n",
        "4                                   Igor R. Klebanov  1992   \n",
        "5                                      Denis Bernard  1992   \n",
        "6      Mirjam Cvetic, Stephen Griffies, Soo-Jong Rey  1992   \n",
        "7                                    Satoshi Matsuda  1992   \n",
        "8                                    Eva Silverstein  1992   \n",
        "9               A.Marshakov, A.Mironov and A.Morozov  1992   \n",
        "\n",
        "                                            Abstract  \\\n",
        "0  We study algebraic aspects of Kontsevich integ...   \n",
        "1  The quantum deformed (1+1) Poincare' algebra i...   \n",
        "2  In these lecture notes we review the various r...   \n",
        "3  By defining the heterotic Green-Schwarz supers...   \n",
        "4  I study the Ward identities of the symmetry of...   \n",
        "5  We describe few aspects of the quantum symmetr...   \n",
        "6  We study supersymmetric domain walls in N=1 su...   \n",
        "7  The Coulomb gas representations are presented ...   \n",
        "8  The simplest toroidally compactified string th...   \n",
        "9  The Ward identities in Kontsevich-like 1-matri...   \n",
        "\n",
        "                           Email  Pages             Venue EmailName  \n",
        "0   zuber@poseidon.saclay.cea.fr     46   Int.J.Mod.Phys.      None  \n",
        "1                           None      5    Phys.Rev.Lett.      None  \n",
        "2                           None     73              None      None  \n",
        "3  nathan@max.physics.sunysb.edu     33        Nucl.Phys.      None  \n",
        "4                           None     12  Mod. Phys. Lett.      None  \n",
        "5                           None     13        Phys.Lett.      None  \n",
        "6                           None     29        Nucl.Phys.      None  \n",
        "7                           None     16        Phys.Lett.      None  \n",
        "8      THEORY@HUHEPL.HARVARD.EDU     12       Phys. Lett.      None  \n",
        "9                           None     13  Mod. Phys. Lett.      None  \n",
        "\n",
        "...\n",
        "[29548 rows x 9 columns]"
       ]
      }
     ],
     "prompt_number": 3
    },
    {
     "cell_type": "code",
     "collapsed": false,
     "input": [
      "train_set, test_set = citationSF.random_split(0.8, seed=1)"
     ],
     "language": "python",
     "metadata": {},
     "outputs": [],
     "prompt_number": 4
    },
    {
     "cell_type": "heading",
     "level": 1,
     "metadata": {},
     "source": [
      "Training the models"
     ]
    },
    {
     "cell_type": "code",
     "collapsed": false,
     "input": [
      "# Jaccard Similarity\n",
      "model_Jaccard = gl.recommender.create(train_set,\n",
      "                                      user_column='SourceID',\n",
      "                                      item_column='TargetID',\n",
      "                                      target_column='Count',\n",
      "                                      method='item_similarity',\n",
      "                                      similarity_type='jaccard'\n",
      "                                      )"
     ],
     "language": "python",
     "metadata": {},
     "outputs": [],
     "prompt_number": 5
    },
    {
     "cell_type": "code",
     "collapsed": false,
     "input": [
      "# Cosine Similarity\n",
      "model_Cosine = gl.recommender.create(train_set,\n",
      "                                      user_column='SourceID',\n",
      "                                      item_column='TargetID',\n",
      "                                      target_column='Count',\n",
      "                                      method='item_similarity',\n",
      "                                      similarity_type='cosine'\n",
      "                                      )"
     ],
     "language": "python",
     "metadata": {},
     "outputs": [],
     "prompt_number": 6
    },
    {
     "cell_type": "code",
     "collapsed": false,
     "input": [
      "# Matrix Factorization\n",
      "model_MF = gl.recommender.create(train_set, \n",
      "                          user_column='SourceID', \n",
      "                          item_column='TargetID', \n",
      "                          target_column='Count',\n",
      "                          method='matrix_factorization'\n",
      "                          )"
     ],
     "language": "python",
     "metadata": {},
     "outputs": [],
     "prompt_number": 7
    },
    {
     "cell_type": "heading",
     "level": 1,
     "metadata": {},
     "source": [
      "Comparing the Results"
     ]
    },
    {
     "cell_type": "code",
     "collapsed": false,
     "input": [
      "# This will only give RMSE - Which I don't want \n",
      "#result = gl.recommender.compare_models(test_set, [model_Cosine, model_Jaccard, model_MF], skip_set=train_set)"
     ],
     "language": "python",
     "metadata": {},
     "outputs": [],
     "prompt_number": 8
    },
    {
     "cell_type": "code",
     "collapsed": false,
     "input": [
      "pr_Jaccard = model_Jaccard._evaluate_precision_recall(test_set, cutoffs=[10, 20, 30, 40, 50, 60, 70, 80, 90, 100])\n",
      "pr_Cosine = model_Cosine._evaluate_precision_recall(test_set, cutoffs=[10, 20, 30, 40, 50, 60, 70, 80, 90, 100])\n",
      "pr_MF = model_Cosine._evaluate_precision_recall(test_set, cutoffs=[10, 20, 30, 40, 50, 60, 70, 80, 90, 100])"
     ],
     "language": "python",
     "metadata": {},
     "outputs": [],
     "prompt_number": 9
    },
    {
     "cell_type": "code",
     "collapsed": false,
     "input": [
      "# Getting the precision\n",
      "\n",
      "p_Jaccard_ave = pr_Jaccard.groupby(\n",
      "        key_columns='cutoff',\n",
      "        operations={'avePRECISION': agg.MEAN('precision')}).topk('cutoff', reverse = True)\n",
      "\n",
      "p_Cosine_ave = pr_Cosine.groupby(\n",
      "        key_columns='cutoff',\n",
      "        operations={'avePRECISION': agg.MEAN('precision')}).topk('cutoff', reverse = True)\n",
      "\n",
      "p_MF_ave = pr_MF.groupby(\n",
      "        key_columns='cutoff',\n",
      "        operations={'avePRECISION': agg.MEAN('precision')}).topk('cutoff', reverse = True)"
     ],
     "language": "python",
     "metadata": {},
     "outputs": [],
     "prompt_number": 10
    },
    {
     "cell_type": "code",
     "collapsed": false,
     "input": [
      "# Getting the Recall \n",
      "\n",
      "r_Jaccard_ave = pr_Jaccard.groupby(\n",
      "        key_columns='cutoff',\n",
      "        operations={'aveRECALL': agg.MEAN('recall')}).topk('cutoff', reverse = True)\n",
      "\n",
      "r_Cosine_ave = pr_Cosine.groupby(\n",
      "        key_columns='cutoff',\n",
      "        operations={'aveRECALL': agg.MEAN('recall')}).topk('cutoff', reverse = True)\n",
      "\n",
      "r_MF_ave = pr_MF.groupby(\n",
      "        key_columns='cutoff',\n",
      "        operations={'aveRECALL': agg.MEAN('recall')}).topk('cutoff', reverse = True)"
     ],
     "language": "python",
     "metadata": {},
     "outputs": [],
     "prompt_number": 11
    },
    {
     "cell_type": "code",
     "collapsed": false,
     "input": [
      "pp.plot(\n",
      "        list(p_Jaccard_ave['avePRECISION']), \n",
      "        list(r_Jaccard_ave['aveRECALL']), label = 'Jaccard')\n",
      "\n",
      "pp.plot(\n",
      "        list(p_Cosine_ave['avePRECISION']), \n",
      "        list(r_Cosine_ave['aveRECALL']), label = 'Cosine')\n",
      "\n",
      "pp.plot(\n",
      "        list(p_MF_ave['avePRECISION']), \n",
      "        list(r_MF_ave['aveRECALL']), label = 'MF')\n",
      "\n",
      "pp.legend(loc='upper right')\n",
      "pp.show()\n"
     ],
     "language": "python",
     "metadata": {},
     "outputs": [
      {
       "metadata": {},
       "output_type": "display_data",
       "png": "[encoded data removed]",
       "text": [
        "<matplotlib.figure.Figure at 0x111c2e9d0>"
       ]
      }
     ],
     "prompt_number": 12
    },
    {
     "cell_type": "code",
     "collapsed": false,
     "input": [],
     "language": "python",
     "metadata": {},
     "outputs": [],
     "prompt_number": 12
    },
    {
     "cell_type": "code",
     "collapsed": false,
     "input": [],
     "language": "python",
     "metadata": {},
     "outputs": [],
     "prompt_number": 12
    }
   ],
   "metadata": {}
  }
 ]
}