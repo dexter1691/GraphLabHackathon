{
 "metadata": {
  "name": "",
  "signature": "sha256:97a351825181a4ecb4f39b600ee0475e7b3b2a9d9a5f55155eace24c195f56c6"
 },
 "nbformat": 3,
 "nbformat_minor": 0,
 "worksheets": [
  {
   "cells": [
    {
     "cell_type": "heading",
     "level": 1,
     "metadata": {},
     "source": [
      "Loading the data"
     ]
    },
    {
     "cell_type": "code",
     "collapsed": false,
     "input": [
      "import graphlab.aggregate as agg\n",
      "import graphlab as gl\n",
      "import matplotlib.pyplot as pp"
     ],
     "language": "python",
     "metadata": {},
     "outputs": [],
     "prompt_number": 1
    },
    {
     "cell_type": "code",
     "collapsed": false,
     "input": [
      "papersSF = gl.load_sframe('../data/glData/papersSF_org')\n",
      "citationSF = gl.load_sframe('../data/glData/citationsSF_ratings')\n",
      "paperPaperSG = gl.load_graph('../data/glData/paperPaperSG_org')\n",
      "citationSF"
     ],
     "language": "python",
     "metadata": {},
     "outputs": [
      {
       "output_type": "stream",
       "stream": "stderr",
       "text": [
        "[INFO] Start server at: ipc:///tmp/graphlab_server-2265 - Server binary: /usr/lib/python2.7/site-packages/graphlab/unity_server - Server log: /tmp/graphlab_server_1402617924.log\n"
       ]
      },
      {
       "output_type": "stream",
       "stream": "stderr",
       "text": [
        "[INFO] GraphLab Server Version: 0.3.1216\n"
       ]
      },
      {
       "metadata": {},
       "output_type": "pyout",
       "prompt_number": 2,
       "text": [
        "Columns:\n",
        "\tSourceID\tint\n",
        "\tTargetID\tint\n",
        "\tCount\tint\n",
        "\n",
        "Rows: 352807\n",
        "\n",
        "Data:\n",
        "   SourceID  TargetID  Count\n",
        "0      1001   9304045     16\n",
        "1      1001   9308122    115\n",
        "2      1001   9309097    140\n",
        "3      1001   9311042     55\n",
        "4      1001   9401139    421\n",
        "5      1001   9404151     77\n",
        "6      1001   9407087   1299\n",
        "7      1001   9408099   1006\n",
        "8      1001   9501030    126\n",
        "9      1001   9503124   1114\n",
        "\n",
        "...\n",
        "[352807 rows x 3 columns]"
       ]
      }
     ],
     "prompt_number": 2
    },
    {
     "cell_type": "heading",
     "level": 1,
     "metadata": {},
     "source": [
      "Splitting the data"
     ]
    },
    {
     "cell_type": "code",
     "collapsed": false,
     "input": [
      "import copy\n",
      "papersSF=  papersSF[papersSF['Pages']!=None]\n",
      "\n",
      "papersSF_src = papersSF.select_columns(['ID', 'Year', 'Email', 'Pages', 'Title_BOW'])\n",
      "\n",
      "papersSF_src.rename({'ID' : 'SourceID'})\n",
      "papersSF_dst = copy.copy(papersSF_src)\n",
      "papersSF_dst.rename({'SourceID' : 'TargetID'})\n",
      "print papersSF_src\n",
      "print papersSF_dst\n",
      "\n",
      "\n",
      "'''\n",
      "papersSF_dst = papersSF\n",
      "papersSF_dst = papersSF_dst.rename({'ID' : 'TargetID'})\n",
      "print papersSF_dst\n",
      "'''"
     ],
     "language": "python",
     "metadata": {},
     "outputs": [
      {
       "output_type": "stream",
       "stream": "stdout",
       "text": [
        "   SourceID  Year                          Email  Pages  \\\n",
        "0   9201001  1992   zuber@poseidon.saclay.cea.fr     46   \n",
        "1   9201002  1992                           None      5   \n",
        "2   9201003  1992                           None     73   \n",
        "3   9201004  1992  nathan@max.physics.sunysb.edu     33   \n",
        "4   9201005  1992                           None     12   \n",
        "5   9201006  1992                           None     13   \n",
        "6   9201007  1992                           None     29   \n",
        "7   9201008  1992                           None     16   \n",
        "8   9201009  1992      THEORY@HUHEPL.HARVARD.EDU     12   \n",
        "9   9201010  1992                           None     13   \n",
        "\n",
        "                                           Title_BOW  \n",
        "0  {u'group': 1, u'combinatorics': 1, u'kontsevic...  \n",
        "1  {u'phonons': 1, u'quantum': 1, u'symmetries': ...  \n",
        "2  {u'and': 1, u'theory': 2, u'topological': 1, u...  \n",
        "3  {u'worldsheet': 1, u'superstring': 1, u'green'...  \n",
        "4  {u'theory': 1, u'two': 1, u'dimensional': 1, u...  \n",
        "5  {u'some': 1, u'massless': 1, u'symmetries': 1,...  \n",
        "6  {u'domain': 1, u'static': 1, u'walls': 1, u'su...  \n",
        "7  {u'and': 1, u'coulomb': 1, u'operators': 1, u'...  \n",
        "8  {u'large': 1, u'small': 1, u'equivalence': 1, ...  \n",
        "9  {u'kontsevich': 1, u'model': 1, u'constraints'...  \n",
        "\n",
        "...\n",
        "[26949 rows x 5 columns]\n",
        "\n",
        "   TargetID  Year                          Email  Pages  \\\n",
        "0   9201001  1992   zuber@poseidon.saclay.cea.fr     46   \n",
        "1   9201002  1992                           None      5   \n",
        "2   9201003  1992                           None     73   \n",
        "3   9201004  1992  nathan@max.physics.sunysb.edu     33   \n",
        "4   9201005  1992                           None     12   \n",
        "5   9201006  1992                           None     13   \n",
        "6   9201007  1992                           None     29   \n",
        "7   9201008  1992                           None     16   \n",
        "8   9201009  1992      THEORY@HUHEPL.HARVARD.EDU     12   \n",
        "9   9201010  1992                           None     13   \n",
        "\n",
        "                                           Title_BOW  \n",
        "0  {u'group': 1, u'combinatorics': 1, u'kontsevic...  \n",
        "1  {u'phonons': 1, u'quantum': 1, u'symmetries': ...  \n",
        "2  {u'and': 1, u'theory': 2, u'topological': 1, u...  \n",
        "3  {u'worldsheet': 1, u'superstring': 1, u'green'...  \n",
        "4  {u'theory': 1, u'two': 1, u'dimensional': 1, u...  \n",
        "5  {u'some': 1, u'massless': 1, u'symmetries': 1,...  \n",
        "6  {u'domain': 1, u'static': 1, u'walls': 1, u'su...  \n",
        "7  {u'and': 1, u'coulomb': 1, u'operators': 1, u'...  \n",
        "8  {u'large': 1, u'small': 1, u'equivalence': 1, ...  \n",
        "9  {u'kontsevich': 1, u'model': 1, u'constraints'...  \n",
        "\n",
        "...\n",
        "[26949 rows x 5 columns]\n",
        "\n"
       ]
      },
      {
       "metadata": {},
       "output_type": "pyout",
       "prompt_number": 3,
       "text": [
        "\"\\npapersSF_dst = papersSF\\npapersSF_dst = papersSF_dst.rename({'ID' : 'TargetID'})\\nprint papersSF_dst\\n\""
       ]
      }
     ],
     "prompt_number": 3
    },
    {
     "cell_type": "code",
     "collapsed": false,
     "input": [
      "train_set, test_set = citationSF.random_split(0.8, seed=1)"
     ],
     "language": "python",
     "metadata": {},
     "outputs": [],
     "prompt_number": 4
    },
    {
     "cell_type": "heading",
     "level": 1,
     "metadata": {},
     "source": [
      "Factorization Model"
     ]
    },
    {
     "cell_type": "code",
     "collapsed": false,
     "input": [
      "\n",
      "fm_no_side_features = gl.recommender.create(train_set, \n",
      "                      user_column = 'SourceID',\n",
      "                      item_column = 'TargetID',\n",
      "                      target_column = 'Count',\n",
      "                      method = 'factorization_model'\n",
      "                      )\n",
      "\n",
      "fm = gl.recommender.create(train_set, \n",
      "                      user_column = 'SourceID',\n",
      "                      item_column = 'TargetID',\n",
      "                      target_column = 'Count',\n",
      "                      user_data = papersSF_src,\n",
      "                      item_data = papersSF_dst,\n",
      "                      method = 'factorization_model'\n",
      "                      )\n"
     ],
     "language": "python",
     "metadata": {},
     "outputs": [],
     "prompt_number": 14
    },
    {
     "cell_type": "heading",
     "level": 1,
     "metadata": {},
     "source": [
      "Training the models"
     ]
    },
    {
     "cell_type": "code",
     "collapsed": false,
     "input": [
      "# Jaccard Similarity\n",
      "model_Jaccard = gl.recommender.create(train_set,\n",
      "                                      user_column='SourceID',\n",
      "                                      item_column='TargetID',\n",
      "                                      target_column='Count',\n",
      "                                      method='item_similarity',\n",
      "                                      similarity_type='jaccard'\n",
      "                                      )"
     ],
     "language": "python",
     "metadata": {},
     "outputs": [],
     "prompt_number": 5
    },
    {
     "cell_type": "code",
     "collapsed": false,
     "input": [
      "# Cosine Similarity\n",
      "model_Cosine = gl.recommender.create(train_set,\n",
      "                                      user_column='SourceID',\n",
      "                                      item_column='TargetID',\n",
      "                                      target_column='Count',\n",
      "                                      method='item_similarity',\n",
      "                                      similarity_type='cosine'\n",
      "                                      )"
     ],
     "language": "python",
     "metadata": {},
     "outputs": [],
     "prompt_number": 6
    },
    {
     "cell_type": "code",
     "collapsed": false,
     "input": [
      "# Matrix Factorization\n",
      "model_MF = gl.recommender.create(train_set, \n",
      "                          user_column='SourceID', \n",
      "                          item_column='TargetID', \n",
      "                          target_column='Count',\n",
      "                          method='matrix_factorization'\n",
      "                          )"
     ],
     "language": "python",
     "metadata": {},
     "outputs": [],
     "prompt_number": 7
    },
    {
     "cell_type": "heading",
     "level": 1,
     "metadata": {},
     "source": [
      "Comparing the Results"
     ]
    },
    {
     "cell_type": "code",
     "collapsed": false,
     "input": [
      "# This will only give RMSE - Which I don't want \n",
      "#result = gl.recommender.compare_models(test_set, [model_Cosine, model_Jaccard, model_MF], skip_set=train_set)"
     ],
     "language": "python",
     "metadata": {},
     "outputs": [],
     "prompt_number": 8
    },
    {
     "cell_type": "code",
     "collapsed": false,
     "input": [
      "'''\n",
      "pr_Jaccard = model_Jaccard._evaluate_precision_recall(test_set, cutoffs=[10, 20, 30, 40, 50, 60, 70, 80, 90, 100])\n",
      "pr_Cosine = model_Cosine._evaluate_precision_recall(test_set, cutoffs=[10, 20, 30, 40, 50, 60, 70, 80, 90, 100])\n",
      "pr_MF = model_Cosine._evaluate_precision_recall(test_set, cutoffs=[10, 20, 30, 40, 50, 60, 70, 80, 90, 100])\n",
      "'''\n",
      "pr_fm_nsf = fm_no_side_features._evaluate_precision_recall(test_set, cutoffs=[10, 20, 30, 40, 50, 60, 70, 80, 90, 100])\n",
      "\n",
      "pr_fm = fm._evaluate_precision_recall(test_set, cutoffs=[10, 20, 30, 40, 50, 60, 70, 80, 90, 100])\n"
     ],
     "language": "python",
     "metadata": {},
     "outputs": []
    },
    {
     "cell_type": "code",
     "collapsed": false,
     "input": [
      "# Getting the precision\n",
      "'''\n",
      "p_Jaccard_ave = pr_Jaccard.groupby(\n",
      "        key_columns='cutoff',\n",
      "        operations={'avePRECISION': agg.MEAN('precision')}).topk('cutoff', reverse = True)\n",
      "\n",
      "p_Cosine_ave = pr_Cosine.groupby(\n",
      "        key_columns='cutoff',\n",
      "        operations={'avePRECISION': agg.MEAN('precision')}).topk('cutoff', reverse = True)\n",
      "\n",
      "p_MF_ave = pr_MF.groupby(\n",
      "        key_columns='cutoff',\n",
      "        operations={'avePRECISION': agg.MEAN('precision')}).topk('cutoff', reverse = True)\n",
      "'''\n",
      "\n",
      "p_fm_nsf_ave = pr_fm_nsf.groupby(\n",
      "        key_columns='cutoff',\n",
      "        operations={'avePRECISION': agg.MEAN('precision')}).topk('cutoff', reverse = True)\n",
      "\n",
      "p_fm_ave = pr_fm.groupby(\n",
      "        key_columns='cutoff',\n",
      "        operations={'avePRECISION': agg.MEAN('precision')}).topk('cutoff', reverse = True)"
     ],
     "language": "python",
     "metadata": {},
     "outputs": [],
     "prompt_number": 7
    },
    {
     "cell_type": "code",
     "collapsed": false,
     "input": [
      "# Getting the Recall \n",
      "'''\n",
      "r_Jaccard_ave = pr_Jaccard.groupby(\n",
      "        key_columns='cutoff',\n",
      "        operations={'aveRECALL': agg.MEAN('recall')}).topk('cutoff', reverse = True)\n",
      "\n",
      "r_Cosine_ave = pr_Cosine.groupby(\n",
      "        key_columns='cutoff',\n",
      "        operations={'aveRECALL': agg.MEAN('recall')}).topk('cutoff', reverse = True)\n",
      "\n",
      "r_MF_ave = pr_MF.groupby(\n",
      "        key_columns='cutoff',\n",
      "        operations={'aveRECALL': agg.MEAN('recall')}).topk('cutoff', reverse = True)\n",
      "'''\n",
      "r_fm_nsf_ave = pr_fm_nsf.groupby(\n",
      "        key_columns='cutoff',\n",
      "        operations={'aveRECALL': agg.MEAN('recall')}).topk('cutoff', reverse = True)\n",
      "\n",
      "r_fm_ave = pr_fm.groupby(\n",
      "        key_columns='cutoff',\n",
      "        operations={'aveRECALL': agg.MEAN('recall')}).topk('cutoff', reverse = True)"
     ],
     "language": "python",
     "metadata": {},
     "outputs": [],
     "prompt_number": 9
    },
    {
     "cell_type": "code",
     "collapsed": false,
     "input": [
      "'''\n",
      "pp.plot(\n",
      "        list(p_Jaccard_ave['avePRECISION']), \n",
      "        list(r_Jaccard_ave['aveRECALL']), label = 'Jaccard')\n",
      "\n",
      "pp.plot(\n",
      "        list(p_Cosine_ave['avePRECISION']), \n",
      "        list(r_Cosine_ave['aveRECALL']), label = 'Cosine')\n",
      "\n",
      "pp.plot(\n",
      "        list(p_MF_ave['avePRECISION']), \n",
      "        list(r_MF_ave['aveRECALL']), label = 'MF')\n",
      "'''\n",
      "pp.plot(\n",
      "        list(p_fm_ave['avePRECISION']), \n",
      "        list(r_fm_ave['aveRECALL']), label = 'MF')\n",
      "pp.plot(\n",
      "        list(p_fm_nsf_ave['avePRECISION']), \n",
      "        list(r_fm_nsf_ave['aveRECALL']), label = 'MF')\n",
      "\n",
      "pp.legend(loc='upper right')\n",
      "pp.show()\n"
     ],
     "language": "python",
     "metadata": {},
     "outputs": [],
     "prompt_number": 10
    },
    {
     "cell_type": "code",
     "collapsed": false,
     "input": [],
     "language": "python",
     "metadata": {},
     "outputs": [],
     "prompt_number": 12
    },
    {
     "cell_type": "code",
     "collapsed": false,
     "input": [],
     "language": "python",
     "metadata": {},
     "outputs": [],
     "prompt_number": 12
    }
   ],
   "metadata": {}
  }
 ]
}