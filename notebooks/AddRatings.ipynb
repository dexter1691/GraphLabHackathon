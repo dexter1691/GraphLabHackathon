{
 "metadata": {
  "name": "",
  "signature": "sha256:eda695758d74b61c4309fb382b93d388a077dbf82e70727004b5e32e04200130"
 },
 "nbformat": 3,
 "nbformat_minor": 0,
 "worksheets": [
  {
   "cells": [
    {
     "cell_type": "code",
     "collapsed": false,
     "input": [
      "import graphlab as gl\n",
      "import numpy as np"
     ],
     "language": "python",
     "metadata": {},
     "outputs": [],
     "prompt_number": 1
    },
    {
     "cell_type": "code",
     "collapsed": false,
     "input": [
      "papersSF = gl.load_sframe('../data/glData/papersSF_org')\n",
      "citationSF = gl.load_sframe('../data/glData/citationsSF_org')\n",
      "paperPaperSG = gl.load_graph('../data/glData/paperPaperSG_org')"
     ],
     "language": "python",
     "metadata": {},
     "outputs": [],
     "prompt_number": 25
    },
    {
     "cell_type": "code",
     "collapsed": false,
     "input": [
      "citation_count = citationSF.groupby(['TargetID'], [gl.aggregate.COUNT()])\n"
     ],
     "language": "python",
     "metadata": {},
     "outputs": [],
     "prompt_number": 27
    },
    {
     "cell_type": "code",
     "collapsed": false,
     "input": [
      "'''\n",
      "len_citeframe = len(citationSF)\n",
      "arr = np.zeros(shape=(len_citeframe))\n",
      "citationSF.add_column(gl.SArray(arr),name='rating')\n",
      "citationSF.remove_column('rating')\n",
      "citationsSF.join(citation_count, how='left')\n",
      "citationsSF\n",
      "'''\n",
      "citationSF.join(citation_count, how='left')\n",
      "citationSF.save('../data/glData/citationsSF_org')"
     ],
     "language": "python",
     "metadata": {},
     "outputs": [],
     "prompt_number": 34
    }
   ],
   "metadata": {}
  }
 ]
}