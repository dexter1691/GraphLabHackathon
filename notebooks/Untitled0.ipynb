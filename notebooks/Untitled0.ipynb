{
 "metadata": {
  "name": "",
  "signature": "sha256:bf7be2f3914255847b5b8fa9f24998d5f7213c085f55beeac73f8c1b33404b66"
 },
 "nbformat": 3,
 "nbformat_minor": 0,
 "worksheets": [
  {
   "cells": [
    {
     "cell_type": "code",
     "collapsed": false,
     "input": [
      "import graphlab as gl"
     ],
     "language": "python",
     "metadata": {},
     "outputs": [],
     "prompt_number": 2
    },
    {
     "cell_type": "heading",
     "level": 1,
     "metadata": {},
     "source": [
      "Loading the data"
     ]
    },
    {
     "cell_type": "code",
     "collapsed": false,
     "input": [
      "papersSF = gl.load_sframe('../data/glData/papersSF_org')\n",
      "citationSF = gl.load_sframe('../data/glData/citationsSF_org')\n",
      "paperPaperSG = gl.load_graph('../data/glData/paperPaperSG_org')"
     ],
     "language": "python",
     "metadata": {},
     "outputs": [
      {
       "output_type": "stream",
       "stream": "stderr",
       "text": [
        "[INFO] Start server at: ipc:///tmp/graphlab_server-22168 - Server binary: /Library/Python/2.7/site-packages/graphlab/unity_server - Server log: /tmp/graphlab_server_1402507547.log\n"
       ]
      },
      {
       "output_type": "stream",
       "stream": "stderr",
       "text": [
        "[INFO] GraphLab Server Version: 0.3.1216\n"
       ]
      }
     ],
     "prompt_number": 3
    },
    {
     "cell_type": "code",
     "collapsed": false,
     "input": [
      "#paperPaperSG.get_neighborhood(9506048).show(vlabel='id')\n",
      "#v[v['Pages'] == 3]\n",
      "#papersSF.show()\n",
      "papersSF.show()\n",
      "# /tmp/graphlab_server_1402506444.log"
     ],
     "language": "python",
     "metadata": {},
     "outputs": [],
     "prompt_number": 7
    },
    {
     "cell_type": "code",
     "collapsed": false,
     "input": [
      "#sp = gl.shortest_path.create(paperPaperSG,source_vid=9506048)"
     ],
     "language": "python",
     "metadata": {},
     "outputs": [],
     "prompt_number": 10
    },
    {
     "cell_type": "code",
     "collapsed": false,
     "input": [
      "paperPaperSG"
     ],
     "language": "python",
     "metadata": {},
     "outputs": [
      {
       "metadata": {},
       "output_type": "pyout",
       "prompt_number": 11,
       "text": [
        "SGraph({'num_edges': 352807, 'num_vertices': 29555})\n",
        "Fields:['__id', 'Title', 'Authors', 'Year', 'Abstract', 'Email', 'Pages', 'Venue', 'EmailName', '__src_id', '__dst_id']"
       ]
      }
     ],
     "prompt_number": 11
    },
    {
     "cell_type": "code",
     "collapsed": false,
     "input": [
      "m = gl.recommender.create(citationSF, user_column='SourceID', item_column='TargetID', method='item_similarity', similarity_type='jaccard')"
     ],
     "language": "python",
     "metadata": {},
     "outputs": [],
     "prompt_number": 22
    },
    {
     "cell_type": "code",
     "collapsed": false,
     "input": [
      "rec = m.recommend(users=[1001, 1002, 1003])"
     ],
     "language": "python",
     "metadata": {},
     "outputs": [],
     "prompt_number": 23
    },
    {
     "cell_type": "code",
     "collapsed": false,
     "input": [
      "rec"
     ],
     "language": "python",
     "metadata": {},
     "outputs": [
      {
       "metadata": {},
       "output_type": "pyout",
       "prompt_number": 24,
       "text": [
        "Columns:\n",
        "\tSourceID\tint\n",
        "\tTargetID\tint\n",
        "\tscore\tfloat\n",
        "\trank\tint\n",
        "\n",
        "Rows: 30\n",
        "\n",
        "Data:\n",
        "   SourceID  TargetID     score  rank\n",
        "0      1001   9605200  0.050637     1\n",
        "1      1001   9506110  0.049525     2\n",
        "2      1001   9601036  0.047351     3\n",
        "3      1001   9603170  0.043853     4\n",
        "4      1001   9510093  0.043679     5\n",
        "5      1001   9601014  0.042456     6\n",
        "6      1001   9604034  0.041508     7\n",
        "7      1001   9605131  0.039513     8\n",
        "8      1001   9507012  0.038852     9\n",
        "9      1001   9701165  0.038785    10\n",
        "\n",
        "...\n",
        "[30 rows x 4 columns]"
       ]
      }
     ],
     "prompt_number": 24
    },
    {
     "cell_type": "code",
     "collapsed": false,
     "input": [
      "m = gl.recommender.create(citationSF, user_column='SourceID', item_column='TargetID', method='item_similarity', similarity_type='cosine')\n",
      "rec = m.recommend(users=[1001, 1002, 1003])\n",
      "rec"
     ],
     "language": "python",
     "metadata": {},
     "outputs": [
      {
       "metadata": {},
       "output_type": "pyout",
       "prompt_number": 25,
       "text": [
        "Columns:\n",
        "\tSourceID\tint\n",
        "\tTargetID\tint\n",
        "\tscore\tfloat\n",
        "\trank\tint\n",
        "\n",
        "Rows: 30\n",
        "\n",
        "Data:\n",
        "   SourceID  TargetID  score  rank\n",
        "0      1001   9201007      1     1\n",
        "1      1001   9204031      1     2\n",
        "2      1001   9210123      1     3\n",
        "3      1001   9304062      1     4\n",
        "4      1001   9908067      1     5\n",
        "5      1001   9402089      1     6\n",
        "6      1001   9604090      1     7\n",
        "7      1001   9803235      1     8\n",
        "8      1001   9807051      1     9\n",
        "9      1001   9809015      1    10\n",
        "\n",
        "...\n",
        "[30 rows x 4 columns]"
       ]
      }
     ],
     "prompt_number": 25
    },
    {
     "cell_type": "code",
     "collapsed": false,
     "input": [
      "m = gl.recommender.create(citationSF, user_column='SourceID', item_column='TargetID', method='matrix_factorization')"
     ],
     "language": "python",
     "metadata": {},
     "outputs": [
      {
       "output_type": "stream",
       "stream": "stderr",
       "text": [
        "[ERROR] Toolkit error: Method matrix_factorization requires a numeric target column of scores or ratings; The provided target column __undefined__ not found.\n"
       ]
      },
      {
       "ename": "ToolkitError",
       "evalue": "Method matrix_factorization requires a numeric target column of scores or ratings; The provided target column __undefined__ not found.",
       "output_type": "pyerr",
       "traceback": [
        "\u001b[0;31m---------------------------------------------------------------------------\u001b[0m\n\u001b[0;31mToolkitError\u001b[0m                              Traceback (most recent call last)",
        "\u001b[0;32m<ipython-input-21-c44a13696aef>\u001b[0m in \u001b[0;36m<module>\u001b[0;34m()\u001b[0m\n\u001b[0;32m----> 1\u001b[0;31m \u001b[0mm\u001b[0m \u001b[0;34m=\u001b[0m \u001b[0mgl\u001b[0m\u001b[0;34m.\u001b[0m\u001b[0mrecommender\u001b[0m\u001b[0;34m.\u001b[0m\u001b[0mcreate\u001b[0m\u001b[0;34m(\u001b[0m\u001b[0mcitationSF\u001b[0m\u001b[0;34m,\u001b[0m \u001b[0muser_column\u001b[0m\u001b[0;34m=\u001b[0m\u001b[0;34m'SourceID'\u001b[0m\u001b[0;34m,\u001b[0m \u001b[0mitem_column\u001b[0m\u001b[0;34m=\u001b[0m\u001b[0;34m'TargetID'\u001b[0m\u001b[0;34m,\u001b[0m \u001b[0mmethod\u001b[0m\u001b[0;34m=\u001b[0m\u001b[0;34m'matrix_factorization'\u001b[0m\u001b[0;34m)\u001b[0m\u001b[0;34m\u001b[0m\u001b[0m\n\u001b[0m",
        "\u001b[0;32m/Library/Python/2.7/site-packages/graphlab/toolkits/recommender/util.pyc\u001b[0m in \u001b[0;36mcreate\u001b[0;34m(observation_data, user_column, item_column, target_column, user_data, item_data, verbose, method, **method_options)\u001b[0m\n\u001b[1;32m    359\u001b[0m     \u001b[0;32mimport\u001b[0m \u001b[0mlogging\u001b[0m\u001b[0;34m\u001b[0m\u001b[0m\n\u001b[1;32m    360\u001b[0m \u001b[0;34m\u001b[0m\u001b[0m\n\u001b[0;32m--> 361\u001b[0;31m     \u001b[0mresponse\u001b[0m \u001b[0;34m=\u001b[0m \u001b[0m_graphlab\u001b[0m\u001b[0;34m.\u001b[0m\u001b[0mtoolkits\u001b[0m\u001b[0;34m.\u001b[0m\u001b[0mmain\u001b[0m\u001b[0;34m.\u001b[0m\u001b[0mrun\u001b[0m\u001b[0;34m(\u001b[0m\u001b[0;34m'recsys_train'\u001b[0m\u001b[0;34m,\u001b[0m \u001b[0mopts\u001b[0m\u001b[0;34m,\u001b[0m \u001b[0mverbose\u001b[0m\u001b[0;34m,\u001b[0m \u001b[0mplot\u001b[0m\u001b[0;34m)\u001b[0m\u001b[0;34m\u001b[0m\u001b[0m\n\u001b[0m\u001b[1;32m    362\u001b[0m \u001b[0;34m\u001b[0m\u001b[0m\n\u001b[1;32m    363\u001b[0m     \u001b[0;32mif\u001b[0m \u001b[0mmethod\u001b[0m \u001b[0;34m==\u001b[0m \u001b[0;34m\"item_similarity\"\u001b[0m\u001b[0;34m:\u001b[0m\u001b[0;34m\u001b[0m\u001b[0m\n",
        "\u001b[0;32m/Library/Python/2.7/site-packages/graphlab/toolkits/main.pyc\u001b[0m in \u001b[0;36mrun\u001b[0;34m(toolkit_name, options, verbose, show_progress)\u001b[0m\n\u001b[1;32m    103\u001b[0m         \u001b[0;32mreturn\u001b[0m \u001b[0mparams\u001b[0m\u001b[0;34m\u001b[0m\u001b[0m\n\u001b[1;32m    104\u001b[0m     \u001b[0;32melse\u001b[0m\u001b[0;34m:\u001b[0m\u001b[0;34m\u001b[0m\u001b[0m\n\u001b[0;32m--> 105\u001b[0;31m         \u001b[0;32mraise\u001b[0m \u001b[0mToolkitError\u001b[0m\u001b[0;34m(\u001b[0m\u001b[0mstr\u001b[0m\u001b[0;34m(\u001b[0m\u001b[0mmessage\u001b[0m\u001b[0;34m)\u001b[0m\u001b[0;34m)\u001b[0m\u001b[0;34m\u001b[0m\u001b[0m\n\u001b[0m",
        "\u001b[0;31mToolkitError\u001b[0m: Method matrix_factorization requires a numeric target column of scores or ratings; The provided target column __undefined__ not found."
       ]
      }
     ],
     "prompt_number": 21
    },
    {
     "cell_type": "code",
     "collapsed": false,
     "input": [
      "papersSF['Pages'].apply(lambda x : None if x > 1000 else x)\n"
     ],
     "language": "python",
     "metadata": {},
     "outputs": [
      {
       "metadata": {},
       "output_type": "pyout",
       "prompt_number": 15,
       "text": [
        "<repr(<graphlab.data_structures.sarray.SArray at 0x108caa9d0>) failed: RuntimeError: Runtime Exception: 0. Runtime Exception: 0. Traceback (most recent call last):\n",
        "  File \"/usr/lib/python2.7/pickle.py\", line 1382, in loads\n",
        "    return Unpickler(file).load()\n",
        "  File \"/usr/lib/python2.7/pickle.py\", line 858, in load\n",
        "    dispatch[key](self)\n",
        "  File \"/usr/lib/python2.7/pickle.py\", line 1090, in load_global\n",
        "    klass = self.find_class(module, name)\n",
        "  File \"/usr/lib/python2.7/pickle.py\", line 1124, in find_class\n",
        "    __import__(module)\n",
        "  File \"/Library/Python/2.7/site-packages/graphlab/__init__.py\", line 11, in <module>\n",
        "    import graphlab.connect.aws as aws\n",
        "  File \"/Library/Python/2.7/site-packages/graphlab/connect/aws/__init__.py\", line 5, in <module>\n",
        "    from _ec2 import get_credentials, launch_EC2, list_instances, set_credentials, status, terminate_EC2\n",
        "  File \"/Library/Python/2.7/site-packages/graphlab/connect/aws/_ec2.py\", line 18, in <module>\n",
        "    import graphlab.connect.main as glconnect\n",
        "  File \"/Library/Python/2.7/site-packages/graphlab/connect/main.py\", line 5, in <module>\n",
        "    from graphlab.cython.cy_unity import UnityGlobalProxy\n",
        "  File \"cy_flexible_type.pxd\", line 120, in init graphlab.cython.cy_unity\n",
        "  File \"cy_flexible_type.pyx\", line 3, in init graphlab.cython.cy_flexible_type\n",
        "  File \"/Library/Python/2.7/site-packages/pandas/__init__.py\", line 44, in <module>\n",
        "    from pandas.io.api import *\n",
        "  File \"/Library/Python/2.7/site-packages/pandas/io/api.py\", line 15, in <module>\n",
        "    from pandas.io.gbq import read_gbq\n",
        "  File \"/Library/Python/2.7/site-packages/pandas/io/gbq.py\", line 10, in <module>\n",
        "    import pkg_resources\n",
        "ImportError: No module named pkg_resources\n",
        ">"
       ]
      }
     ],
     "prompt_number": 15
    },
    {
     "cell_type": "code",
     "collapsed": false,
     "input": [
      "import sys\n",
      "print sys.path"
     ],
     "language": "python",
     "metadata": {},
     "outputs": [
      {
       "output_type": "stream",
       "stream": "stdout",
       "text": [
        "['', '/System/Library/Frameworks/Python.framework/Versions/2.7/lib/python27.zip', '/System/Library/Frameworks/Python.framework/Versions/2.7/lib/python2.7', '/System/Library/Frameworks/Python.framework/Versions/2.7/lib/python2.7/plat-darwin', '/System/Library/Frameworks/Python.framework/Versions/2.7/lib/python2.7/plat-mac', '/System/Library/Frameworks/Python.framework/Versions/2.7/lib/python2.7/plat-mac/lib-scriptpackages', '/System/Library/Frameworks/Python.framework/Versions/2.7/Extras/lib/python', '/System/Library/Frameworks/Python.framework/Versions/2.7/lib/python2.7/lib-tk', '/System/Library/Frameworks/Python.framework/Versions/2.7/lib/python2.7/lib-old', '/System/Library/Frameworks/Python.framework/Versions/2.7/lib/python2.7/lib-dynload', '/System/Library/Frameworks/Python.framework/Versions/2.7/Extras/lib/python/PyObjC', '/Library/Python/2.7/site-packages', '/Library/Python/2.7/site-packages/IPython/extensions']\n"
       ]
      }
     ],
     "prompt_number": 16
    },
    {
     "cell_type": "code",
     "collapsed": false,
     "input": [
      "papersSF[papersSF['Pages']>1000]"
     ],
     "language": "python",
     "metadata": {},
     "outputs": [
      {
       "metadata": {},
       "output_type": "pyout",
       "prompt_number": 12,
       "text": [
        "Columns:\n",
        "\tID\tint\n",
        "\tTitle\tstr\n",
        "\tAuthors\tstr\n",
        "\tYear\tint\n",
        "\tAbstract\tstr\n",
        "\tEmail\tstr\n",
        "\tPages\tint\n",
        "\tVenue\tstr\n",
        "\tEmailName\tstr\n",
        "\n",
        "Rows: 86\n",
        "\n",
        "Data:\n",
        "        ID                                              Title  \\\n",
        "0  9209046                               Conformal Turbulence   \n",
        "1  9209103                    Current Algebras in  dimensions   \n",
        "2  9210142  Recent Efforts in the Computation of String Co...   \n",
        "3  9302032  Correlators in non-critical superstrings inclu...   \n",
        "4  9302115  On RSOS models associated to Lie algebras and ...   \n",
        "5  9303083  On the Dirac Quantization of two Dimensional G...   \n",
        "6  9305060  Global Quantization of Vacuum Angle and Magnet...   \n",
        "7  9307154  Renormalization Group Approach to Matrix Model...   \n",
        "8  9308006  Renormalization of gauge invariant composite o...   \n",
        "9  9308073  On Calculation of  RG Functions in the Gross N...   \n",
        "\n",
        "                                             Authors  Year  \\\n",
        "0                                        A. Polyakov  1992   \n",
        "1                                   Jouko Mickelsson  1992   \n",
        "2                  Albrecht Klemm and Stefan Theisen  1992   \n",
        "3                          D. Dalmazi and E. Abdalla  1993   \n",
        "4                                       Doron Gepner  1993   \n",
        "5          M.C.B. Abdalla, F.P. Devecchi, E. Abdalla  1993   \n",
        "6                                     Huazhong Zhang  1993   \n",
        "7     Saburo Higuchi, Chigak Itoi and Norisuke Sakai  1993   \n",
        "8  C. Acerbi and A. Bassetto (Dipartimento di Fis...  1993   \n",
        "9         N.A. Kivel, A.S. Stepanenko, A.N. Vasil'ev  1993   \n",
        "\n",
        "                                            Abstract  \\\n",
        "0  We describe conformal field theories, correlat...   \n",
        "1  Aspects of a generalized representation theory...   \n",
        "2  We review recent advances towards the computat...   \n",
        "3  We discuss the structure of correlators involv...   \n",
        "4  RSOS models based on the Lie algebras are deri...   \n",
        "5  We discuss the Dirac quantization of two dimen...   \n",
        "6  The non-perturbative solution to the strong CP...   \n",
        "7  The renormalization group approach is studied ...   \n",
        "8   We generalize to composite operators concepts...   \n",
        "9  Using knowledge of the explicit dependence of ...   \n",
        "\n",
        "                               Email   Pages                   Venue EmailName  \n",
        "0                               None    1341                    None      None  \n",
        "1  mickelss@sun1.ruf.uni-freiburg.de    1992                    None      None  \n",
        "2                               None    1992        Theor.Math.Phys.      None  \n",
        "3                               None    1029             Phys. Lett.      None  \n",
        "4                               None    1993              Phys.Lett.      None  \n",
        "5                               None    1041                    None      None  \n",
        "6                               None  921201                    None      None  \n",
        "7                               None    1992  Prog.Theor.Phys.Suppl.      None  \n",
        "8                               None   35100               Phys.Rev.      None  \n",
        "9               galinast@lnpi.spb.su    1910              Nucl.Phys.      None  \n",
        "\n",
        "...\n",
        "[86 rows x 9 columns]"
       ]
      }
     ],
     "prompt_number": 12
    },
    {
     "cell_type": "code",
     "collapsed": false,
     "input": [],
     "language": "python",
     "metadata": {},
     "outputs": []
    }
   ],
   "metadata": {}
  }
 ]
}